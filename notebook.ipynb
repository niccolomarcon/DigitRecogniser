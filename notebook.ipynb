{
 "cells": [
  {
   "cell_type": "markdown",
   "metadata": {},
   "source": [
    "# DigitRecogniser\n",
    "A neural network that learns to recognize hand written digits"
   ]
  },
  {
   "cell_type": "markdown",
   "metadata": {},
   "source": [
    "### Import all the libraries we need"
   ]
  },
  {
   "cell_type": "code",
   "execution_count": 1,
   "metadata": {
    "collapsed": false
   },
   "outputs": [
    {
     "name": "stdout",
     "output_type": "stream",
     "text": [
      "Populating the interactive namespace from numpy and matplotlib\n"
     ]
    }
   ],
   "source": [
    "%matplotlib nbagg\n",
    "%pylab inline\n",
    "import random\n",
    "import NeuralNetwork\n",
    "import mnist"
   ]
  },
  {
   "cell_type": "markdown",
   "metadata": {},
   "source": [
    "### Now we load the dataset and initialize the neural network"
   ]
  },
  {
   "cell_type": "code",
   "execution_count": 2,
   "metadata": {
    "collapsed": true
   },
   "outputs": [],
   "source": [
    "number = 1350\n",
    "digits_train, labels_train, digits_test, labels_test = mnist.load(number)\n",
    "net = NeuralNetwork.NeuralNetwork(784, 15, 10)"
   ]
  },
  {
   "cell_type": "markdown",
   "metadata": {},
   "source": [
    "### Here we can see how well the network is learning"
   ]
  },
  {
   "cell_type": "code",
   "execution_count": 3,
   "metadata": {
    "collapsed": false
   },
   "outputs": [
    {
     "data": {
      "text/plain": [
       "<matplotlib.legend.Legend at 0x10c660a10>"
      ]
     },
     "execution_count": 3,
     "metadata": {},
     "output_type": "execute_result"
    },
    {
     "data": {
      "image/png": "[encoded data removed]",
      "text/plain": [
       "<matplotlib.figure.Figure at 0x10bde5310>"
      ]
     },
     "metadata": {},
     "output_type": "display_data"
    }
   ],
   "source": [
    "net.train(digits_train, labels_train, digits_test, labels_test)\n",
    "plot(net.TrainingPlot)\n",
    "plot(net.OverfitPlot)\n",
    "xlabel('Iterations')\n",
    "ylabel('Error')\n",
    "legend(['Training', 'Testing'])"
   ]
  },
  {
   "cell_type": "markdown",
   "metadata": {},
   "source": [
    "### Here is the accuracy of the network\n",
    "The accurancy is calculated for the training set and also for the test set which are images that the network has never seen"
   ]
  },
  {
   "cell_type": "code",
   "execution_count": 4,
   "metadata": {
    "collapsed": false
   },
   "outputs": [
    {
     "name": "stdout",
     "output_type": "stream",
     "text": [
      "train -> 98.37%\n",
      "test  -> 82.96%\n"
     ]
    }
   ],
   "source": [
    "right_train = 0.\n",
    "right_test  = 0.\n",
    "for i in range(number):\n",
    "    if mnist.prettyGuess(net, digits_train[i]) == mnist.prettyLabel(labels_train[i]):\n",
    "        right_train += 1.\n",
    "    if mnist.prettyGuess(net, digits_test[i]) == mnist.prettyLabel(labels_test[i]):\n",
    "        right_test += 1.\n",
    "print 'train -> %.2f%%' % (right_train * 100. / number)\n",
    "print 'test  -> %.2f%%' % (right_test * 100. / number)"
   ]
  },
  {
   "cell_type": "markdown",
   "metadata": {},
   "source": [
    "### Finally we can test the network with a random number and see what we get\n",
    "The result is not always sure because it relies on the accurancy of the network  "
   ]
  },
  {
   "cell_type": "code",
   "execution_count": 5,
   "metadata": {
    "collapsed": false
   },
   "outputs": [
    {
     "name": "stdout",
     "output_type": "stream",
     "text": [
      "guess   9\n",
      "correct 9\n"
     ]
    },
    {
     "data": {
      "image/png": "[encoded data removed]",
      "text/plain": [
       "<matplotlib.figure.Figure at 0x10c614cd0>"
      ]
     },
     "metadata": {},
     "output_type": "display_data"
    }
   ],
   "source": [
    "n = random.randint(0, number - 1)\n",
    "print 'guess   %i' % mnist.prettyGuess(net, digits_test[n])\n",
    "print 'correct %i' % mnist.prettyLabel(labels_test[n])\n",
    "mnist.displayDigit(digits_test[n])"
   ]
  }
 ],
 "metadata": {
  "kernelspec": {
   "display_name": "Python 2",
   "language": "python",
   "name": "python2"
  },
  "language_info": {
   "codemirror_mode": {
    "name": "ipython",
    "version": 2
   },
   "file_extension": ".py",
   "mimetype": "text/x-python",
   "name": "python",
   "nbconvert_exporter": "python",
   "pygments_lexer": "ipython2",
   "version": "2.7.11"
  }
 },
 "nbformat": 4,
 "nbformat_minor": 0
}
